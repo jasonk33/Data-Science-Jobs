{
 "cells": [
  {
   "cell_type": "code",
   "execution_count": 343,
   "metadata": {},
   "outputs": [
    {
     "name": "stdout",
     "output_type": "stream",
     "text": [
      "The autotime extension is already loaded. To reload it, use:\n",
      "  %reload_ext autotime\n",
      "time: 15.4 ms\n"
     ]
    }
   ],
   "source": [
    "from selenium import webdriver\n",
    "from time import sleep\n",
    "import numpy as np\n",
    "import re\n",
    "import json\n",
    "%load_ext autotime"
   ]
  },
  {
   "cell_type": "code",
   "execution_count": null,
   "metadata": {},
   "outputs": [],
   "source": [
    "\"\"\"\n",
    "Workflow:\n",
    "- Since a Glassdoor search only allows you to view the first 900 results, the overall US job search must be segmented by state\n",
    "- For states with more than 900 results, the search is segmented by industry\n",
    "- The scraping is carried out one state at a time, looking through each page of results, and going through each job posting\n",
    "- The job title, job desciption, salary, and company rating are all extracted for each job\n",
    "- Random sleep is used between requests, otherwise reCAPTCHA is activated and the remaining search fails\n",
    "- The scraping combines a selenium chrome driver, url manipulation, and html element searching\n",
    "\"\"\""
   ]
  },
  {
   "cell_type": "code",
   "execution_count": 540,
   "metadata": {},
   "outputs": [
    {
     "name": "stdout",
     "output_type": "stream",
     "text": [
      "time: 2.9 ms\n"
     ]
    }
   ],
   "source": [
    "# Function to sleep for a random amount of time to make requests seem like they are not from a bot\n",
    "def ran_sleep(multiple,base=0):\n",
    "    return sleep(base+(np.random.rand()*2)*multiple)"
   ]
  },
  {
   "cell_type": "code",
   "execution_count": 583,
   "metadata": {},
   "outputs": [
    {
     "name": "stdout",
     "output_type": "stream",
     "text": [
      "time: 52.1 ms\n"
     ]
    }
   ],
   "source": [
    "# Start a chrome driver\n",
    "def initialize_browser(driver='/Users/JasonKatz/Applications/chromedriver'):\n",
    "    chrome_options = webdriver.ChromeOptions()\n",
    "    chrome_options.add_argument('--disable-extensions')\n",
    "    chrome_options.add_argument('--profile-directory=Default')\n",
    "    chrome_options.add_argument(\"--disable-plugins-discovery\")\n",
    "    chrome_options.add_argument(\"--start-maximized\")\n",
    "    return webdriver.Chrome(driver, chrome_options=chrome_options)"
   ]
  },
  {
   "cell_type": "code",
   "execution_count": 584,
   "metadata": {},
   "outputs": [
    {
     "name": "stdout",
     "output_type": "stream",
     "text": [
      "time: 44.9 ms\n"
     ]
    }
   ],
   "source": [
    "# Using a browser, navigate to Glassdoor and search for a keyword and a location\n",
    "def initialize_glassdoor_search(browser, location, keyword=\"Data Scientist\"):\n",
    "    website = \"https://www.glassdoor.com/index.htm\"\n",
    "    browser.get(website)\n",
    "    ran_sleep(2,base=1)\n",
    "    job_element = browser.find_element_by_id(\"KeywordSearch\")\n",
    "    ran_sleep(.1)\n",
    "    location_element = browser.find_element_by_id(\"LocationSearch\")\n",
    "    ran_sleep(.1)\n",
    "    job_element.clear()\n",
    "    ran_sleep(.5)\n",
    "    job_element.send_keys(keyword)\n",
    "    ran_sleep(.5)\n",
    "    location_element.clear()\n",
    "    ran_sleep(.5)\n",
    "    location_element.send_keys(location)\n",
    "    ran_sleep(.5)\n",
    "    search = browser.find_element_by_id(\"HeroSearchButton\")\n",
    "    ran_sleep(.1)\n",
    "    search.click()\n",
    "    ran_sleep(1,base=1)\n",
    "    browser.get(browser.current_url)\n",
    "    ran_sleep(1,base=1)"
   ]
  },
  {
   "cell_type": "code",
   "execution_count": 669,
   "metadata": {},
   "outputs": [
    {
     "name": "stdout",
     "output_type": "stream",
     "text": [
      "time: 34.8 ms\n"
     ]
    }
   ],
   "source": [
    "# Using a browser on a Glassdoor search results page, find the number of pages of search results\n",
    "def get_max_pages(browser):\n",
    "    try:\n",
    "        pages_column = browser.find_element_by_id('MainCol')\n",
    "        ran_sleep(.1)\n",
    "        num_pages_text = pages_column.find_elements_by_class_name(\"cell\")[0].text\n",
    "        ran_sleep(.1)\n",
    "        regex_match = re.search(\"of\", num_pages_text)\n",
    "        return np.minimum(np.int(num_pages_text[regex_match.span()[1]+1:]), 30)\n",
    "    except:\n",
    "        tot_jobs = get_num_jobs(browser)\n",
    "        if int(tot_jobs) <= 30:\n",
    "            return 1\n",
    "        else:\n",
    "            print(\"failed to find number of pages\")\n",
    "            print(browser.current_url)\n",
    "            return np.minimum(np.ceil(tot_jobs/30), 30)"
   ]
  },
  {
   "cell_type": "code",
   "execution_count": 586,
   "metadata": {},
   "outputs": [
    {
     "name": "stdout",
     "output_type": "stream",
     "text": [
      "time: 7.82 ms\n"
     ]
    }
   ],
   "source": [
    "# Using a browser on a Glassdoor search results page, get all the urls of the search results\n",
    "def get_job_links(browser):\n",
    "    try:\n",
    "        job_links = browser.find_elements_by_class_name('jobLink')\n",
    "        ran_sleep(.1)\n",
    "        links = []\n",
    "        job_ids = []\n",
    "        for job in job_links:\n",
    "            link = job.get_attribute('href')\n",
    "            ran_sleep(.1)\n",
    "            if link[-10:] not in job_ids:\n",
    "                job_ids.append(link[-10:])\n",
    "                links.append(link)\n",
    "        return links\n",
    "    except:\n",
    "        print(\"failed to find job links\")\n",
    "        print(browser.current_url)\n",
    "        return []"
   ]
  },
  {
   "cell_type": "code",
   "execution_count": 587,
   "metadata": {},
   "outputs": [
    {
     "name": "stdout",
     "output_type": "stream",
     "text": [
      "time: 11.1 ms\n"
     ]
    }
   ],
   "source": [
    "# Using a browser on a Glassdoor job posting, get the job title\n",
    "def get_job_title(browser):\n",
    "    try:\n",
    "        job_title_element = browser.find_elements_by_tag_name(\"h2\")[0]\n",
    "        ran_sleep(.1)\n",
    "        job_title_text = job_title_element.get_attribute(\"innerHTML\")\n",
    "        ran_sleep(.1)\n",
    "        return job_title_text\n",
    "    except:\n",
    "        return \"\""
   ]
  },
  {
   "cell_type": "code",
   "execution_count": 588,
   "metadata": {},
   "outputs": [
    {
     "name": "stdout",
     "output_type": "stream",
     "text": [
      "time: 8.74 ms\n"
     ]
    }
   ],
   "source": [
    "# Using a browser on a Glassdoor job posting, get the job description\n",
    "def get_job_description(browser):\n",
    "    try:\n",
    "        description_element = browser.find_element_by_class_name(\"jobDescriptionContent\")\n",
    "        ran_sleep(.1)\n",
    "        description = description_element.get_attribute(\"innerHTML\")\n",
    "        ran_sleep(.1)\n",
    "        return description\n",
    "    except:\n",
    "        return \"\""
   ]
  },
  {
   "cell_type": "code",
   "execution_count": 600,
   "metadata": {},
   "outputs": [
    {
     "name": "stdout",
     "output_type": "stream",
     "text": [
      "time: 16.3 ms\n"
     ]
    }
   ],
   "source": [
    "# Using a browser on a Glassdoor job posting, get the job salary\n",
    "def get_median_salary(browser):\n",
    "    try:\n",
    "        salary_text = browser.find_elements_by_class_name(\"salEst\")[1].text\n",
    "        ran_sleep(.1)\n",
    "        regex_match = re.search(\"/\", salary_text)\n",
    "        salary = np.int(salary_text[1:regex_match.span()[0]].replace(\",\", \"\"))\n",
    "        if salary < 1000:\n",
    "            return salary * 2000\n",
    "        else:\n",
    "            return salary\n",
    "    except:\n",
    "        return np.nan"
   ]
  },
  {
   "cell_type": "code",
   "execution_count": 601,
   "metadata": {},
   "outputs": [
    {
     "name": "stdout",
     "output_type": "stream",
     "text": [
      "time: 24.8 ms\n"
     ]
    }
   ],
   "source": [
    "# Using a browser on a Glassdoor job posting, get the company rating\n",
    "def get_company_rating(browser):\n",
    "    try:\n",
    "        rating_element = browser.find_element_by_class_name(\"ratingNum\")\n",
    "        ran_sleep(.1)\n",
    "        rating_text = rating_element.get_attribute(\"innerHTML\")\n",
    "        ran_sleep(.1)\n",
    "        return np.float(rating_text)\n",
    "    except:\n",
    "        return np.nan"
   ]
  },
  {
   "cell_type": "code",
   "execution_count": 602,
   "metadata": {},
   "outputs": [
    {
     "name": "stdout",
     "output_type": "stream",
     "text": [
      "time: 11.1 ms\n"
     ]
    }
   ],
   "source": [
    "# Using a browser on a Glassdoor search results page, get the total number of jobs returned\n",
    "def get_num_jobs(browser):\n",
    "    try:\n",
    "        num_jobs_element = browser.find_element_by_class_name(\"jobsCount\")\n",
    "        ran_sleep(.1)\n",
    "        num_jobs_text = num_jobs_element.get_attribute(\"innerHTML\")\n",
    "        ran_sleep(.1)\n",
    "        regex_match = re.search(\"&\", num_jobs_text)\n",
    "        return num_jobs_text[:regex_match.span()[0]]\n",
    "    except:\n",
    "        return \"unknown number of\""
   ]
  },
  {
   "cell_type": "code",
   "execution_count": 603,
   "metadata": {},
   "outputs": [
    {
     "name": "stdout",
     "output_type": "stream",
     "text": [
      "time: 53.7 ms\n"
     ]
    }
   ],
   "source": [
    "# Using a browser on a Glassdoor search results page, get the ids of the different industries available to segment by\n",
    "def get_industry_ids(browser):\n",
    "    try:\n",
    "        filters = browser.find_element_by_class_name(\"selectContainer\")\n",
    "        ran_sleep(.1)\n",
    "        extra_filter = browser.find_elements_by_class_name(\"filter\")[-1]\n",
    "        ran_sleep(.1)\n",
    "        extra_filter.click()\n",
    "        ran_sleep(.5)\n",
    "        filter_options = browser.find_element_by_class_name(\"moreFlyout\")\n",
    "        ran_sleep(.1)\n",
    "        industry_filter = filter_options.find_elements_by_class_name(\"header\")[2]\n",
    "        ran_sleep(.1)\n",
    "        industry_filter.click()\n",
    "        ran_sleep(.5)\n",
    "        industry_options = filter_options.find_elements_by_tag_name('li')\n",
    "        all_industries = industry_options[-1]\n",
    "        all_industries_text = all_industries.text\n",
    "        ran_sleep(.1)\n",
    "        regex_match = re.search(\"\\(\", all_industries_text)\n",
    "        num_jobs = all_industries_text[regex_match.span()[1]:-1]\n",
    "        industry_options = industry_options[:-1]\n",
    "        ran_sleep(.1)\n",
    "        industries = []\n",
    "        for industry in industry_options:\n",
    "            industry_id = industry.get_attribute(\"value\")\n",
    "            industries.append(\"&industryId=\" + industry_id)\n",
    "            ran_sleep(.1)\n",
    "        return industries, num_jobs\n",
    "    except:\n",
    "        print(\"Could not extract industry ids\")\n",
    "        print(browser.current_url)\n",
    "        return [], 0"
   ]
  },
  {
   "cell_type": "code",
   "execution_count": 692,
   "metadata": {},
   "outputs": [
    {
     "name": "stdout",
     "output_type": "stream",
     "text": [
      "time: 185 ms\n"
     ]
    }
   ],
   "source": [
    "# Using a browser on a Glassdoor search, scrape all jobs for that search \n",
    "def scrape_jobs(browser, outfile):\n",
    "    \n",
    "    # Initialize scraping\n",
    "    base_url = browser.current_url[:-4]\n",
    "    ran_sleep(1,base=1)\n",
    "    browser.get(base_url + \".htm?radius=0&fromAge=30\")\n",
    "    ran_sleep(2,base=1)\n",
    "    data = []\n",
    "    jobs_scraped = 0\n",
    "    \n",
    "    # Get all the industry ids\n",
    "    industries, tot_jobs = get_industry_ids(browser)\n",
    "    \n",
    "    # If less than 900 jobs, just scrape all, otherwise segment by industry\n",
    "    if int(tot_jobs.replace(\",\", \"\")) <= 900:\n",
    "        industries = [\"\"]\n",
    "        tot_jobs = get_num_jobs(browser)\n",
    "        \n",
    "    print(\"Beginning scrape of {} jobs\".format(tot_jobs))\n",
    "    for industry in industries:\n",
    "        print(\"Beginning industry {}\".format(industry[-4:]))\n",
    "        ran_sleep(5,base=10)\n",
    "        browser.get(base_url + \".htm?radius=0&fromAge=30\" + industry)\n",
    "        ran_sleep(2,base=1)\n",
    "        num_pages = get_max_pages(browser)\n",
    "        \n",
    "        # Navigate through each search results page\n",
    "        for page_num in range(num_pages):\n",
    "            ran_sleep(2.5,base=5)\n",
    "\n",
    "            try:\n",
    "                browser.get(base_url + \"_IP\" + str(page_num+1) + \".htm?radius=0&fromAge=30\" + industry)\n",
    "                ran_sleep(.5,base=1)\n",
    "                job_links = get_job_links(browser)\n",
    "            except:\n",
    "                print(\"error with finding job links\")\n",
    "                print(browser.current_url)\n",
    "                job_links = []\n",
    "            \n",
    "            # Naviagte to each job posting in the results page\n",
    "            for link in job_links:\n",
    "                try:\n",
    "                    browser.get(link)\n",
    "                    ran_sleep(1,base=1.5)\n",
    "                    job_title = get_job_title(browser)\n",
    "                    job_description = get_job_description(browser)\n",
    "                    median_salary= get_median_salary(browser)\n",
    "                    company_rating = get_company_rating(browser)\n",
    "                    data.append({\"job_title\":job_title, \"job_description\":job_description, \"median_salary\":median_salary, \n",
    "                                 \"company_rating\":company_rating})\n",
    "                    jobs_scraped += 1\n",
    "                    \n",
    "                except:\n",
    "                    print(\"error with job link\")\n",
    "                    print(browser.current_url)\n",
    "                    jobs_scraped += 0\n",
    "                \n",
    "            with open(outfile, 'w') as file:\n",
    "                json.dump(data, file)\n",
    "\n",
    "            print(\"Finished scraping job {} of {}\".format(jobs_scraped, tot_jobs))"
   ]
  },
  {
   "cell_type": "code",
   "execution_count": null,
   "metadata": {},
   "outputs": [],
   "source": []
  },
  {
   "cell_type": "code",
   "execution_count": null,
   "metadata": {},
   "outputs": [],
   "source": [
    "### All code below is for the scraping of each US state, one by one"
   ]
  },
  {
   "cell_type": "code",
   "execution_count": 751,
   "metadata": {},
   "outputs": [
    {
     "name": "stdout",
     "output_type": "stream",
     "text": [
      "time: 3.76 s\n"
     ]
    }
   ],
   "source": [
    "browser = initialize_browser()"
   ]
  },
  {
   "cell_type": "code",
   "execution_count": 596,
   "metadata": {},
   "outputs": [
    {
     "name": "stdout",
     "output_type": "stream",
     "text": [
      "Beginning scrape of 5,158 jobs\n",
      "Beginning industry 1000\n",
      "Finished scraping job 30 of 3759\n",
      "Finished scraping job 60 of 3759\n",
      "Finished scraping job 63 of 3759\n",
      "Beginning industry 1002\n",
      "Finished scraping job 93 of 3759\n",
      "Finished scraping job 104 of 3759\n",
      "Beginning industry 1020\n",
      "Finished scraping job 134 of 3759\n",
      "Finished scraping job 164 of 3759\n",
      "Finished scraping job 194 of 3759\n",
      "Finished scraping job 224 of 3759\n",
      "Finished scraping job 254 of 3759\n",
      "Finished scraping job 284 of 3759\n",
      "Finished scraping job 314 of 3759\n",
      "Finished scraping job 344 of 3759\n",
      "Finished scraping job 374 of 3759\n",
      "Finished scraping job 404 of 3759\n",
      "Finished scraping job 434 of 3759\n",
      "Finished scraping job 464 of 3759\n",
      "Finished scraping job 494 of 3759\n",
      "Finished scraping job 524 of 3759\n",
      "Finished scraping job 554 of 3759\n",
      "Finished scraping job 584 of 3759\n",
      "Finished scraping job 614 of 3759\n",
      "Finished scraping job 644 of 3759\n",
      "Finished scraping job 674 of 3759\n",
      "Finished scraping job 704 of 3759\n",
      "Finished scraping job 726 of 3759\n",
      "Beginning industry 1021\n",
      "Finished scraping job 756 of 3759\n",
      "Finished scraping job 786 of 3759\n",
      "Finished scraping job 816 of 3759\n",
      "Finished scraping job 843 of 3759\n",
      "Beginning industry 1027\n",
      "Finished scraping job 873 of 3759\n",
      "Finished scraping job 903 of 3759\n",
      "Finished scraping job 933 of 3759\n",
      "Finished scraping job 959 of 3759\n",
      "Beginning industry 1031\n",
      "Finished scraping job 989 of 3759\n",
      "Finished scraping job 1019 of 3759\n",
      "Finished scraping job 1049 of 3759\n",
      "Finished scraping job 1079 of 3759\n",
      "Finished scraping job 1109 of 3759\n",
      "Finished scraping job 1139 of 3759\n",
      "Finished scraping job 1169 of 3759\n",
      "Finished scraping job 1199 of 3759\n",
      "Finished scraping job 1229 of 3759\n",
      "Finished scraping job 1259 of 3759\n",
      "Finished scraping job 1289 of 3759\n",
      "Finished scraping job 1291 of 3759\n",
      "Beginning industry 1043\n",
      "Finished scraping job 1321 of 3759\n",
      "Finished scraping job 1351 of 3759\n",
      "Finished scraping job 1381 of 3759\n",
      "Finished scraping job 1411 of 3759\n",
      "Finished scraping job 1441 of 3759\n",
      "Finished scraping job 1447 of 3759\n",
      "Beginning industry 1047\n",
      "Finished scraping job 1477 of 3759\n",
      "Finished scraping job 1507 of 3759\n",
      "Finished scraping job 1537 of 3759\n",
      "Finished scraping job 1567 of 3759\n",
      "Finished scraping job 1597 of 3759\n",
      "Finished scraping job 1597 of 3759\n",
      "Finished scraping job 1611 of 3759\n",
      "Beginning industry 1058\n",
      "Finished scraping job 1641 of 3759\n",
      "Finished scraping job 1671 of 3759\n",
      "Finished scraping job 1701 of 3759\n",
      "Finished scraping job 1731 of 3759\n",
      "Finished scraping job 1761 of 3759\n",
      "Finished scraping job 1791 of 3759\n",
      "Finished scraping job 1821 of 3759\n",
      "Finished scraping job 1851 of 3759\n",
      "Finished scraping job 1881 of 3759\n",
      "Finished scraping job 1911 of 3759\n",
      "Finished scraping job 1941 of 3759\n",
      "Finished scraping job 1966 of 3759\n",
      "Beginning industry 1059\n",
      "Finished scraping job 1996 of 3759\n",
      "Finished scraping job 2026 of 3759\n",
      "Finished scraping job 2056 of 3759\n",
      "Finished scraping job 2086 of 3759\n",
      "Finished scraping job 2116 of 3759\n",
      "Finished scraping job 2146 of 3759\n",
      "Finished scraping job 2176 of 3759\n",
      "Finished scraping job 2206 of 3759\n",
      "Finished scraping job 2236 of 3759\n",
      "Finished scraping job 2266 of 3759\n",
      "Finished scraping job 2296 of 3759\n",
      "Finished scraping job 2326 of 3759\n",
      "Finished scraping job 2356 of 3759\n",
      "Finished scraping job 2386 of 3759\n",
      "Finished scraping job 2416 of 3759\n",
      "Finished scraping job 2446 of 3759\n",
      "Finished scraping job 2476 of 3759\n",
      "Finished scraping job 2506 of 3759\n",
      "Finished scraping job 2536 of 3759\n",
      "Finished scraping job 2566 of 3759\n",
      "Finished scraping job 2596 of 3759\n",
      "Finished scraping job 2626 of 3759\n",
      "Finished scraping job 2656 of 3759\n",
      "Finished scraping job 2686 of 3759\n",
      "Finished scraping job 2716 of 3759\n",
      "Finished scraping job 2746 of 3759\n",
      "Finished scraping job 2776 of 3759\n",
      "Finished scraping job 2806 of 3759\n",
      "Finished scraping job 2836 of 3759\n",
      "Finished scraping job 2866 of 3759\n",
      "Beginning industry 1062\n",
      "Finished scraping job 2896 of 3759\n",
      "Finished scraping job 2926 of 3759\n",
      "Finished scraping job 2956 of 3759\n",
      "Finished scraping job 2986 of 3759\n",
      "Finished scraping job 3016 of 3759\n",
      "Finished scraping job 3046 of 3759\n",
      "Finished scraping job 3076 of 3759\n",
      "Finished scraping job 3106 of 3759\n",
      "Finished scraping job 3136 of 3759\n",
      "Finished scraping job 3166 of 3759\n",
      "Finished scraping job 3196 of 3759\n",
      "Finished scraping job 3226 of 3759\n",
      "Finished scraping job 3256 of 3759\n",
      "Finished scraping job 3286 of 3759\n",
      "Finished scraping job 3316 of 3759\n",
      "Finished scraping job 3346 of 3759\n",
      "Finished scraping job 3376 of 3759\n",
      "Finished scraping job 3406 of 3759\n",
      "Finished scraping job 3413 of 3759\n",
      "Beginning industry 1063\n",
      "Finished scraping job 3443 of 3759\n",
      "Finished scraping job 3473 of 3759\n",
      "Finished scraping job 3503 of 3759\n",
      "Finished scraping job 3533 of 3759\n",
      "Finished scraping job 3563 of 3759\n",
      "Finished scraping job 3593 of 3759\n",
      "Finished scraping job 3623 of 3759\n",
      "Finished scraping job 3653 of 3759\n",
      "Finished scraping job 3683 of 3759\n",
      "Finished scraping job 3692 of 3759\n",
      "Beginning industry 1064\n",
      "Finished scraping job 3722 of 3759\n",
      "Finished scraping job 3745 of 3759\n",
      "Beginning industry 1066\n",
      "Finished scraping job 3775 of 3759\n",
      "Finished scraping job 3805 of 3759\n",
      "Finished scraping job 3835 of 3759\n",
      "Finished scraping job 3865 of 3759\n",
      "Finished scraping job 3895 of 3759\n",
      "Finished scraping job 3925 of 3759\n",
      "Finished scraping job 3955 of 3759\n",
      "Finished scraping job 3964 of 3759\n",
      "Beginning industry 1076\n",
      "Finished scraping job 3994 of 3759\n",
      "Finished scraping job 4024 of 3759\n",
      "Finished scraping job 4052 of 3759\n",
      "time: 7h 28min 48s\n"
     ]
    }
   ],
   "source": [
    "initialize_glassdoor_search(browser, 'california' + ', us')\n",
    "scrape_jobs(browser, \"Job_Data/california.json\")"
   ]
  },
  {
   "cell_type": "code",
   "execution_count": 605,
   "metadata": {},
   "outputs": [
    {
     "name": "stdout",
     "output_type": "stream",
     "text": [
      "Beginning scrape of 1688 jobs\n",
      "Beginning industry 1000\n",
      "Finished scraping job 30 of 1688\n",
      "Finished scraping job 35 of 1688\n",
      "Beginning industry 1020\n",
      "Finished scraping job 65 of 1688\n",
      "Finished scraping job 95 of 1688\n",
      "Finished scraping job 125 of 1688\n",
      "Finished scraping job 155 of 1688\n",
      "Finished scraping job 172 of 1688\n",
      "Beginning industry 1021\n",
      "Finished scraping job 202 of 1688\n",
      "Finished scraping job 232 of 1688\n",
      "Finished scraping job 238 of 1688\n",
      "Beginning industry 1027\n",
      "Finished scraping job 268 of 1688\n",
      "Finished scraping job 298 of 1688\n",
      "Finished scraping job 328 of 1688\n",
      "Finished scraping job 332 of 1688\n",
      "Beginning industry 1031\n",
      "Finished scraping job 362 of 1688\n",
      "Finished scraping job 392 of 1688\n",
      "Finished scraping job 422 of 1688\n",
      "Finished scraping job 452 of 1688\n",
      "Finished scraping job 482 of 1688\n",
      "Finished scraping job 512 of 1688\n",
      "Finished scraping job 542 of 1688\n",
      "Finished scraping job 572 of 1688\n",
      "Finished scraping job 596 of 1688\n",
      "Beginning industry 1043\n",
      "Finished scraping job 626 of 1688\n",
      "Finished scraping job 642 of 1688\n",
      "Beginning industry 1047\n",
      "Finished scraping job 672 of 1688\n",
      "Finished scraping job 702 of 1688\n",
      "Finished scraping job 732 of 1688\n",
      "Finished scraping job 762 of 1688\n",
      "Finished scraping job 792 of 1688\n",
      "Finished scraping job 822 of 1688\n",
      "Finished scraping job 852 of 1688\n",
      "Finished scraping job 882 of 1688\n",
      "Finished scraping job 912 of 1688\n",
      "Finished scraping job 942 of 1688\n",
      "Finished scraping job 972 of 1688\n",
      "Finished scraping job 1002 of 1688\n",
      "Finished scraping job 1012 of 1688\n",
      "Beginning industry 1058\n",
      "Finished scraping job 1042 of 1688\n",
      "Finished scraping job 1072 of 1688\n",
      "Finished scraping job 1102 of 1688\n",
      "Finished scraping job 1132 of 1688\n",
      "Finished scraping job 1147 of 1688\n",
      "Beginning industry 1059\n",
      "Finished scraping job 1177 of 1688\n",
      "Finished scraping job 1207 of 1688\n",
      "Finished scraping job 1237 of 1688\n",
      "Finished scraping job 1267 of 1688\n",
      "Finished scraping job 1297 of 1688\n",
      "Finished scraping job 1322 of 1688\n",
      "Beginning industry 1062\n",
      "Finished scraping job 1352 of 1688\n",
      "Finished scraping job 1382 of 1688\n",
      "Finished scraping job 1412 of 1688\n",
      "Finished scraping job 1442 of 1688\n",
      "Finished scraping job 1459 of 1688\n",
      "Beginning industry 1063\n",
      "Finished scraping job 1489 of 1688\n",
      "Finished scraping job 1519 of 1688\n",
      "Finished scraping job 1549 of 1688\n",
      "Finished scraping job 1553 of 1688\n",
      "Beginning industry 1064\n",
      "Finished scraping job 1583 of 1688\n",
      "Finished scraping job 1613 of 1688\n",
      "Finished scraping job 1633 of 1688\n",
      "Beginning industry 1066\n",
      "Finished scraping job 1663 of 1688\n",
      "Finished scraping job 1693 of 1688\n",
      "Finished scraping job 1721 of 1688\n",
      "Beginning industry 1076\n",
      "Finished scraping job 1751 of 1688\n",
      "Finished scraping job 1781 of 1688\n",
      "Finished scraping job 1811 of 1688\n",
      "Finished scraping job 1814 of 1688\n",
      "time: 3h 25min 24s\n"
     ]
    }
   ],
   "source": [
    "initialize_glassdoor_search(browser, 'new york state' + ', us')\n",
    "scrape_jobs(browser, \"Job_Data/new_york.json\")"
   ]
  },
  {
   "cell_type": "code",
   "execution_count": 607,
   "metadata": {},
   "outputs": [
    {
     "name": "stdout",
     "output_type": "stream",
     "text": [
      "Beginning scrape of 1363 jobs\n",
      "Beginning industry 1002\n",
      "Finished scraping job 30 of 1363\n",
      "Finished scraping job 60 of 1363\n",
      "Finished scraping job 60 of 1363\n",
      "Beginning industry 1020\n",
      "Finished scraping job 90 of 1363\n",
      "Finished scraping job 120 of 1363\n",
      "Finished scraping job 150 of 1363\n",
      "Finished scraping job 180 of 1363\n",
      "Finished scraping job 210 of 1363\n",
      "Finished scraping job 240 of 1363\n",
      "Finished scraping job 270 of 1363\n",
      "Finished scraping job 300 of 1363\n",
      "Finished scraping job 330 of 1363\n",
      "Finished scraping job 360 of 1363\n",
      "Finished scraping job 390 of 1363\n",
      "Finished scraping job 420 of 1363\n",
      "Finished scraping job 450 of 1363\n",
      "Finished scraping job 480 of 1363\n",
      "Finished scraping job 510 of 1363\n",
      "Finished scraping job 510 of 1363\n",
      "Finished scraping job 517 of 1363\n",
      "Beginning industry 1021\n",
      "Finished scraping job 539 of 1363\n",
      "Beginning industry 1022\n",
      "Finished scraping job 551 of 1363\n",
      "Beginning industry 1027\n",
      "Finished scraping job 581 of 1363\n",
      "Finished scraping job 601 of 1363\n",
      "Beginning industry 1031\n",
      "Finished scraping job 631 of 1363\n",
      "Finished scraping job 661 of 1363\n",
      "Finished scraping job 691 of 1363\n",
      "Finished scraping job 701 of 1363\n",
      "Beginning industry 1043\n",
      "Finished scraping job 731 of 1363\n",
      "Finished scraping job 761 of 1363\n",
      "Finished scraping job 772 of 1363\n",
      "Beginning industry 1047\n",
      "Finished scraping job 802 of 1363\n",
      "Finished scraping job 832 of 1363\n",
      "Finished scraping job 847 of 1363\n",
      "Beginning industry 1058\n",
      "Finished scraping job 877 of 1363\n",
      "Finished scraping job 907 of 1363\n",
      "Finished scraping job 937 of 1363\n",
      "Finished scraping job 967 of 1363\n",
      "Finished scraping job 970 of 1363\n",
      "Beginning industry 1059\n",
      "Finished scraping job 1000 of 1363\n",
      "Finished scraping job 1030 of 1363\n",
      "Finished scraping job 1060 of 1363\n",
      "Finished scraping job 1078 of 1363\n",
      "Beginning industry 1062\n",
      "Finished scraping job 1108 of 1363\n",
      "Finished scraping job 1138 of 1363\n",
      "Finished scraping job 1166 of 1363\n",
      "Beginning industry 1063\n",
      "Finished scraping job 1196 of 1363\n",
      "Finished scraping job 1216 of 1363\n",
      "Beginning industry 1064\n",
      "Finished scraping job 1246 of 1363\n",
      "Finished scraping job 1246 of 1363\n",
      "Finished scraping job 1256 of 1363\n",
      "Beginning industry 1066\n",
      "Finished scraping job 1286 of 1363\n",
      "Finished scraping job 1316 of 1363\n",
      "Finished scraping job 1340 of 1363\n",
      "Beginning industry 1099\n",
      "Finished scraping job 1365 of 1363\n",
      "time: 2h 55min 50s\n"
     ]
    }
   ],
   "source": [
    "initialize_glassdoor_search(browser, 'massachusetts' + ', us')\n",
    "scrape_jobs(browser, \"Job_Data/massachusetts.json\")"
   ]
  },
  {
   "cell_type": "code",
   "execution_count": 609,
   "metadata": {},
   "outputs": [
    {
     "name": "stdout",
     "output_type": "stream",
     "text": [
      "Beginning scrape of 914 jobs\n",
      "Beginning industry 1000\n",
      "Finished scraping job 29 of 914\n",
      "Beginning industry 1002\n",
      "Finished scraping job 52 of 914\n",
      "Beginning industry 1020\n",
      "Finished scraping job 82 of 914\n",
      "Finished scraping job 85 of 914\n",
      "Beginning industry 1021\n",
      "Finished scraping job 100 of 914\n",
      "Beginning industry 1022\n",
      "Finished scraping job 115 of 914\n",
      "Beginning industry 1027\n",
      "Finished scraping job 145 of 914\n",
      "Finished scraping job 174 of 914\n",
      "Beginning industry 1031\n",
      "Finished scraping job 204 of 914\n",
      "Finished scraping job 234 of 914\n",
      "Finished scraping job 264 of 914\n",
      "Finished scraping job 275 of 914\n",
      "Beginning industry 1043\n",
      "Finished scraping job 305 of 914\n",
      "Finished scraping job 335 of 914\n",
      "Finished scraping job 339 of 914\n",
      "Beginning industry 1047\n",
      "Finished scraping job 369 of 914\n",
      "Finished scraping job 399 of 914\n",
      "Finished scraping job 429 of 914\n",
      "Finished scraping job 444 of 914\n",
      "Beginning industry 1058\n",
      "Finished scraping job 474 of 914\n",
      "Finished scraping job 504 of 914\n",
      "Finished scraping job 534 of 914\n",
      "Finished scraping job 555 of 914\n",
      "Beginning industry 1059\n",
      "Finished scraping job 585 of 914\n",
      "Finished scraping job 615 of 914\n",
      "Finished scraping job 645 of 914\n",
      "Finished scraping job 675 of 914\n",
      "Finished scraping job 687 of 914\n",
      "Beginning industry 1062\n",
      "Finished scraping job 717 of 914\n",
      "Finished scraping job 731 of 914\n",
      "Beginning industry 1063\n",
      "Finished scraping job 761 of 914\n",
      "Finished scraping job 791 of 914\n",
      "Finished scraping job 821 of 914\n",
      "Finished scraping job 851 of 914\n",
      "Finished scraping job 870 of 914\n",
      "Beginning industry 1064\n",
      "Finished scraping job 900 of 914\n",
      "Finished scraping job 926 of 914\n",
      "Beginning industry 1066\n",
      "Finished scraping job 956 of 914\n",
      "Finished scraping job 978 of 914\n",
      "Beginning industry 1083\n",
      "Finished scraping job 1008 of 914\n",
      "Finished scraping job 1014 of 914\n",
      "Beginning industry 1119\n",
      "Finished scraping job 1026 of 914\n",
      "time: 2h 15min 6s\n"
     ]
    }
   ],
   "source": [
    "initialize_glassdoor_search(browser, 'texas' + ', us')\n",
    "scrape_jobs(browser, \"Job_Data/texas.json\")"
   ]
  },
  {
   "cell_type": "code",
   "execution_count": 611,
   "metadata": {},
   "outputs": [
    {
     "name": "stdout",
     "output_type": "stream",
     "text": [
      "Beginning scrape of 1,067 jobs\n",
      "Beginning industry \n",
      "Finished scraping job 30 of 1,067\n",
      "Finished scraping job 60 of 1,067\n",
      "Finished scraping job 90 of 1,067\n",
      "Finished scraping job 120 of 1,067\n",
      "Finished scraping job 150 of 1,067\n",
      "Finished scraping job 180 of 1,067\n",
      "Finished scraping job 210 of 1,067\n",
      "Finished scraping job 240 of 1,067\n",
      "Finished scraping job 270 of 1,067\n",
      "Finished scraping job 300 of 1,067\n",
      "Finished scraping job 330 of 1,067\n",
      "Finished scraping job 360 of 1,067\n",
      "Finished scraping job 390 of 1,067\n",
      "Finished scraping job 420 of 1,067\n",
      "Finished scraping job 450 of 1,067\n",
      "Finished scraping job 480 of 1,067\n",
      "Finished scraping job 510 of 1,067\n",
      "Finished scraping job 540 of 1,067\n",
      "Finished scraping job 570 of 1,067\n",
      "Finished scraping job 600 of 1,067\n",
      "Finished scraping job 630 of 1,067\n",
      "Finished scraping job 660 of 1,067\n",
      "Finished scraping job 690 of 1,067\n",
      "Finished scraping job 720 of 1,067\n",
      "Finished scraping job 750 of 1,067\n",
      "Finished scraping job 780 of 1,067\n",
      "Finished scraping job 810 of 1,067\n",
      "Finished scraping job 840 of 1,067\n",
      "Finished scraping job 870 of 1,067\n",
      "Finished scraping job 900 of 1,067\n",
      "time: 1h 53min 33s\n"
     ]
    }
   ],
   "source": [
    "initialize_glassdoor_search(browser, 'illinois' + ', us')\n",
    "scrape_jobs(browser, \"Job_Data/illinois.json\")"
   ]
  },
  {
   "cell_type": "code",
   "execution_count": 613,
   "metadata": {},
   "outputs": [
    {
     "name": "stdout",
     "output_type": "stream",
     "text": [
      "Beginning scrape of 925 jobs\n",
      "Beginning industry \n",
      "Finished scraping job 30 of 925\n",
      "Finished scraping job 60 of 925\n",
      "Finished scraping job 90 of 925\n",
      "Finished scraping job 120 of 925\n",
      "Finished scraping job 150 of 925\n",
      "Finished scraping job 180 of 925\n",
      "Finished scraping job 210 of 925\n",
      "Finished scraping job 240 of 925\n",
      "Finished scraping job 270 of 925\n",
      "Finished scraping job 300 of 925\n",
      "Finished scraping job 330 of 925\n",
      "Finished scraping job 360 of 925\n",
      "Finished scraping job 390 of 925\n",
      "Finished scraping job 420 of 925\n",
      "Finished scraping job 450 of 925\n",
      "Finished scraping job 480 of 925\n",
      "Finished scraping job 510 of 925\n",
      "Finished scraping job 540 of 925\n",
      "Finished scraping job 570 of 925\n",
      "Finished scraping job 600 of 925\n",
      "Finished scraping job 630 of 925\n",
      "Finished scraping job 660 of 925\n",
      "Finished scraping job 690 of 925\n",
      "Finished scraping job 720 of 925\n",
      "Finished scraping job 750 of 925\n",
      "Finished scraping job 780 of 925\n",
      "Finished scraping job 810 of 925\n",
      "Finished scraping job 840 of 925\n",
      "Finished scraping job 870 of 925\n",
      "Finished scraping job 900 of 925\n",
      "time: 1h 53min 12s\n"
     ]
    }
   ],
   "source": [
    "initialize_glassdoor_search(browser, 'washington state' + ', us')\n",
    "scrape_jobs(browser, \"Job_Data/washington.json\")"
   ]
  },
  {
   "cell_type": "code",
   "execution_count": 614,
   "metadata": {},
   "outputs": [
    {
     "name": "stdout",
     "output_type": "stream",
     "text": [
      "Beginning scrape of 788 jobs\n",
      "Beginning industry \n",
      "Finished scraping job 30 of 788\n",
      "Finished scraping job 60 of 788\n",
      "Finished scraping job 90 of 788\n",
      "Finished scraping job 120 of 788\n",
      "Finished scraping job 150 of 788\n",
      "Finished scraping job 180 of 788\n",
      "Finished scraping job 210 of 788\n",
      "Finished scraping job 240 of 788\n",
      "Finished scraping job 270 of 788\n",
      "Finished scraping job 300 of 788\n",
      "Finished scraping job 330 of 788\n",
      "Finished scraping job 360 of 788\n",
      "Finished scraping job 390 of 788\n",
      "Finished scraping job 420 of 788\n",
      "Finished scraping job 450 of 788\n",
      "Finished scraping job 480 of 788\n",
      "Finished scraping job 510 of 788\n",
      "Finished scraping job 540 of 788\n",
      "Finished scraping job 570 of 788\n",
      "Finished scraping job 600 of 788\n",
      "Finished scraping job 630 of 788\n",
      "Finished scraping job 660 of 788\n",
      "Finished scraping job 690 of 788\n",
      "Finished scraping job 720 of 788\n",
      "Finished scraping job 750 of 788\n",
      "Finished scraping job 780 of 788\n",
      "Finished scraping job 786 of 788\n",
      "time: 1h 18min 8s\n"
     ]
    }
   ],
   "source": [
    "initialize_glassdoor_search(browser, 'pennsylvania' + ', us')\n",
    "scrape_jobs(browser, \"Job_Data/pennsylvania.json\")"
   ]
  },
  {
   "cell_type": "code",
   "execution_count": 617,
   "metadata": {},
   "outputs": [
    {
     "name": "stdout",
     "output_type": "stream",
     "text": [
      "Beginning scrape of 232 jobs\n",
      "Beginning industry \n",
      "Finished scraping job 30 of 232\n",
      "Finished scraping job 60 of 232\n",
      "Finished scraping job 90 of 232\n",
      "Finished scraping job 120 of 232\n",
      "Finished scraping job 150 of 232\n",
      "Finished scraping job 180 of 232\n",
      "Finished scraping job 210 of 232\n",
      "Finished scraping job 232 of 232\n",
      "time: 23min 32s\n"
     ]
    }
   ],
   "source": [
    "initialize_glassdoor_search(browser, 'wisconsin' + ', us')\n",
    "scrape_jobs(browser, \"Job_Data/wisconsin.json\")"
   ]
  },
  {
   "cell_type": "code",
   "execution_count": 618,
   "metadata": {},
   "outputs": [
    {
     "name": "stdout",
     "output_type": "stream",
     "text": [
      "Beginning scrape of 290 jobs\n",
      "Beginning industry \n",
      "Finished scraping job 30 of 290\n",
      "Finished scraping job 60 of 290\n",
      "Finished scraping job 90 of 290\n",
      "Finished scraping job 120 of 290\n",
      "Finished scraping job 150 of 290\n",
      "Finished scraping job 180 of 290\n",
      "Finished scraping job 210 of 290\n",
      "Finished scraping job 240 of 290\n",
      "Finished scraping job 270 of 290\n",
      "Finished scraping job 290 of 290\n",
      "time: 30min 28s\n"
     ]
    }
   ],
   "source": [
    "initialize_glassdoor_search(browser, 'minnesota' + ', us')\n",
    "scrape_jobs(browser, \"Job_Data/minnesota.json\")"
   ]
  },
  {
   "cell_type": "code",
   "execution_count": 619,
   "metadata": {},
   "outputs": [
    {
     "name": "stdout",
     "output_type": "stream",
     "text": [
      "Beginning scrape of 114 jobs\n",
      "Beginning industry \n",
      "Finished scraping job 30 of 114\n",
      "Finished scraping job 60 of 114\n",
      "Finished scraping job 90 of 114\n",
      "Finished scraping job 114 of 114\n",
      "time: 14min 31s\n"
     ]
    }
   ],
   "source": [
    "initialize_glassdoor_search(browser, 'alabama' + ', us')\n",
    "scrape_jobs(browser, \"Job_Data/alabama.json\")"
   ]
  },
  {
   "cell_type": "code",
   "execution_count": 620,
   "metadata": {},
   "outputs": [
    {
     "name": "stdout",
     "output_type": "stream",
     "text": [
      "Beginning scrape of 197 jobs\n",
      "Beginning industry \n",
      "Finished scraping job 30 of 197\n",
      "Finished scraping job 60 of 197\n",
      "Finished scraping job 90 of 197\n",
      "Finished scraping job 120 of 197\n",
      "Finished scraping job 150 of 197\n",
      "Finished scraping job 180 of 197\n",
      "Finished scraping job 198 of 197\n",
      "time: 27min 20s\n"
     ]
    }
   ],
   "source": [
    "initialize_glassdoor_search(browser, 'tennessee' + ', us')\n",
    "scrape_jobs(browser, \"Job_Data/tennessee.json\")"
   ]
  },
  {
   "cell_type": "code",
   "execution_count": 623,
   "metadata": {},
   "outputs": [
    {
     "name": "stdout",
     "output_type": "stream",
     "text": [
      "Beginning scrape of 616 jobs\n",
      "Beginning industry \n",
      "Finished scraping job 30 of 616\n",
      "Finished scraping job 60 of 616\n",
      "Finished scraping job 90 of 616\n",
      "Finished scraping job 120 of 616\n",
      "Finished scraping job 150 of 616\n",
      "Finished scraping job 180 of 616\n",
      "Finished scraping job 210 of 616\n",
      "Finished scraping job 240 of 616\n",
      "Finished scraping job 270 of 616\n",
      "Finished scraping job 300 of 616\n",
      "Finished scraping job 330 of 616\n",
      "Finished scraping job 360 of 616\n",
      "Finished scraping job 390 of 616\n",
      "Finished scraping job 420 of 616\n",
      "Finished scraping job 450 of 616\n",
      "Finished scraping job 480 of 616\n",
      "Finished scraping job 510 of 616\n",
      "Finished scraping job 540 of 616\n",
      "Finished scraping job 570 of 616\n",
      "Finished scraping job 600 of 616\n",
      "Finished scraping job 615 of 616\n",
      "time: 1h 22min 48s\n"
     ]
    }
   ],
   "source": [
    "initialize_glassdoor_search(browser, 'florida' + ', us')\n",
    "scrape_jobs(browser, \"Job_Data/florida.json\")"
   ]
  },
  {
   "cell_type": "code",
   "execution_count": 625,
   "metadata": {},
   "outputs": [
    {
     "name": "stdout",
     "output_type": "stream",
     "text": [
      "Beginning scrape of 544 jobs\n",
      "Beginning industry \n",
      "Finished scraping job 30 of 544\n",
      "Finished scraping job 60 of 544\n",
      "Finished scraping job 90 of 544\n",
      "Finished scraping job 120 of 544\n",
      "Finished scraping job 150 of 544\n",
      "Finished scraping job 180 of 544\n",
      "Finished scraping job 210 of 544\n",
      "Finished scraping job 240 of 544\n",
      "Finished scraping job 270 of 544\n",
      "Finished scraping job 300 of 544\n",
      "Finished scraping job 330 of 544\n",
      "Finished scraping job 360 of 544\n",
      "Finished scraping job 390 of 544\n",
      "Finished scraping job 420 of 544\n",
      "Finished scraping job 450 of 544\n",
      "Finished scraping job 480 of 544\n",
      "Finished scraping job 510 of 544\n",
      "Finished scraping job 540 of 544\n",
      "Finished scraping job 545 of 544\n",
      "time: 1h 15min 54s\n"
     ]
    }
   ],
   "source": [
    "initialize_glassdoor_search(browser, 'ohio' + ', us')\n",
    "scrape_jobs(browser, \"Job_Data/ohio.json\")"
   ]
  },
  {
   "cell_type": "code",
   "execution_count": 627,
   "metadata": {},
   "outputs": [
    {
     "name": "stdout",
     "output_type": "stream",
     "text": [
      "Beginning scrape of 350 jobs\n",
      "Beginning industry \n",
      "Finished scraping job 30 of 350\n",
      "Finished scraping job 60 of 350\n",
      "Finished scraping job 90 of 350\n",
      "Finished scraping job 120 of 350\n",
      "Finished scraping job 150 of 350\n",
      "Finished scraping job 180 of 350\n",
      "Finished scraping job 210 of 350\n",
      "Finished scraping job 240 of 350\n",
      "Finished scraping job 270 of 350\n",
      "Finished scraping job 300 of 350\n",
      "Finished scraping job 330 of 350\n",
      "Finished scraping job 350 of 350\n",
      "time: 44min 3s\n"
     ]
    }
   ],
   "source": [
    "initialize_glassdoor_search(browser, 'michigan' + ', us')\n",
    "scrape_jobs(browser, \"Job_Data/michigan.json\")"
   ]
  },
  {
   "cell_type": "code",
   "execution_count": 637,
   "metadata": {},
   "outputs": [
    {
     "name": "stdout",
     "output_type": "stream",
     "text": [
      "Beginning scrape of 355 jobs\n",
      "Beginning industry \n",
      "Finished scraping job 30 of 355\n",
      "Finished scraping job 60 of 355\n",
      "Finished scraping job 90 of 355\n",
      "Finished scraping job 120 of 355\n",
      "Finished scraping job 150 of 355\n",
      "Finished scraping job 180 of 355\n",
      "Finished scraping job 210 of 355\n",
      "Finished scraping job 240 of 355\n",
      "Finished scraping job 270 of 355\n",
      "Finished scraping job 300 of 355\n",
      "Finished scraping job 330 of 355\n",
      "Finished scraping job 355 of 355\n",
      "time: 33min 13s\n"
     ]
    }
   ],
   "source": [
    "initialize_glassdoor_search(browser, 'connecticut' + ', us')\n",
    "scrape_jobs(browser, \"Job_Data/connecticut.json\")"
   ]
  },
  {
   "cell_type": "code",
   "execution_count": 640,
   "metadata": {},
   "outputs": [
    {
     "name": "stdout",
     "output_type": "stream",
     "text": [
      "Beginning scrape of 61 jobs\n",
      "Beginning industry \n",
      "Finished scraping job 30 of 61\n",
      "Finished scraping job 60 of 61\n",
      "Finished scraping job 60 of 61\n",
      "time: 8min 23s\n"
     ]
    }
   ],
   "source": [
    "initialize_glassdoor_search(browser, 'nebraska' + ', us')\n",
    "scrape_jobs(browser, \"Job_Data/nebraska.json\")"
   ]
  },
  {
   "cell_type": "code",
   "execution_count": 642,
   "metadata": {},
   "outputs": [
    {
     "name": "stdout",
     "output_type": "stream",
     "text": [
      "Beginning scrape of 24 jobs\n",
      "Beginning industry \n",
      "Finished scraping job 24 of 24\n",
      "time: 3min 39s\n"
     ]
    }
   ],
   "source": [
    "initialize_glassdoor_search(browser, 'mississippi' + ', us')\n",
    "scrape_jobs(browser, \"Job_Data/mississippi.json\")"
   ]
  },
  {
   "cell_type": "code",
   "execution_count": 648,
   "metadata": {},
   "outputs": [
    {
     "name": "stdout",
     "output_type": "stream",
     "text": [
      "Beginning scrape of 561 jobs\n",
      "Beginning industry \n",
      "Finished scraping job 30 of 561\n",
      "Finished scraping job 60 of 561\n",
      "Finished scraping job 90 of 561\n",
      "Finished scraping job 120 of 561\n",
      "Finished scraping job 150 of 561\n",
      "Finished scraping job 180 of 561\n",
      "Finished scraping job 210 of 561\n",
      "Finished scraping job 240 of 561\n",
      "Finished scraping job 270 of 561\n",
      "Finished scraping job 300 of 561\n",
      "Finished scraping job 330 of 561\n",
      "Finished scraping job 360 of 561\n",
      "Finished scraping job 390 of 561\n",
      "Finished scraping job 420 of 561\n",
      "Finished scraping job 450 of 561\n",
      "Finished scraping job 480 of 561\n",
      "Finished scraping job 510 of 561\n",
      "Finished scraping job 540 of 561\n",
      "Finished scraping job 560 of 561\n",
      "time: 55min 5s\n"
     ]
    }
   ],
   "source": [
    "initialize_glassdoor_search(browser, 'georgia' + ', us')\n",
    "scrape_jobs(browser, \"Job_Data/georgia.json\")"
   ]
  },
  {
   "cell_type": "code",
   "execution_count": 650,
   "metadata": {},
   "outputs": [
    {
     "name": "stdout",
     "output_type": "stream",
     "text": [
      "Beginning scrape of 5 jobs\n",
      "Beginning industry \n",
      "Finished scraping job 5 of 5\n",
      "time: 1min 41s\n"
     ]
    }
   ],
   "source": [
    "initialize_glassdoor_search(browser, 'wyoming' + ', us')\n",
    "scrape_jobs(browser, \"Job_Data/wyoming.json\")"
   ]
  },
  {
   "cell_type": "code",
   "execution_count": 658,
   "metadata": {},
   "outputs": [
    {
     "name": "stdout",
     "output_type": "stream",
     "text": [
      "Beginning scrape of 18 jobs\n",
      "Beginning industry \n",
      "Finished scraping job 18 of 18\n",
      "time: 3min 5s\n"
     ]
    }
   ],
   "source": [
    "initialize_glassdoor_search(browser, 'vermont' + ', us')\n",
    "scrape_jobs(browser, \"Job_Data/vermont.json\")"
   ]
  },
  {
   "cell_type": "code",
   "execution_count": 660,
   "metadata": {},
   "outputs": [
    {
     "name": "stdout",
     "output_type": "stream",
     "text": [
      "Beginning scrape of 14 jobs\n",
      "Beginning industry \n",
      "Finished scraping job 14 of 14\n",
      "time: 2min 45s\n"
     ]
    }
   ],
   "source": [
    "initialize_glassdoor_search(browser, 'north dakota' + ', us')\n",
    "scrape_jobs(browser, \"Job_Data/north_dakota.json\")"
   ]
  },
  {
   "cell_type": "code",
   "execution_count": 662,
   "metadata": {},
   "outputs": [
    {
     "name": "stdout",
     "output_type": "stream",
     "text": [
      "Beginning scrape of 17 jobs\n",
      "Beginning industry \n",
      "Finished scraping job 17 of 17\n",
      "time: 2min 52s\n"
     ]
    }
   ],
   "source": [
    "initialize_glassdoor_search(browser, 'alaska' + ', us')\n",
    "scrape_jobs(browser, \"Job_Data/alaska.json\")"
   ]
  },
  {
   "cell_type": "code",
   "execution_count": 664,
   "metadata": {},
   "outputs": [
    {
     "name": "stdout",
     "output_type": "stream",
     "text": [
      "Beginning scrape of 16 jobs\n",
      "Beginning industry \n",
      "Finished scraping job 16 of 16\n",
      "time: 2min 58s\n"
     ]
    }
   ],
   "source": [
    "initialize_glassdoor_search(browser, 'south dakota' + ', us')\n",
    "scrape_jobs(browser, \"Job_Data/south_dakota.json\")"
   ]
  },
  {
   "cell_type": "code",
   "execution_count": 671,
   "metadata": {},
   "outputs": [
    {
     "name": "stdout",
     "output_type": "stream",
     "text": [
      "Beginning scrape of 141 jobs\n",
      "Beginning industry \n",
      "Finished scraping job 30 of 141\n",
      "Finished scraping job 60 of 141\n",
      "Finished scraping job 90 of 141\n",
      "Finished scraping job 120 of 141\n",
      "Finished scraping job 141 of 141\n",
      "time: 16min 32s\n"
     ]
    }
   ],
   "source": [
    "initialize_glassdoor_search(browser, 'delaware' + ', us')\n",
    "scrape_jobs(browser, \"Job_Data/delaware.json\")"
   ]
  },
  {
   "cell_type": "code",
   "execution_count": 672,
   "metadata": {},
   "outputs": [
    {
     "name": "stdout",
     "output_type": "stream",
     "text": [
      "Beginning scrape of 13 jobs\n",
      "Beginning industry \n",
      "Finished scraping job 13 of 13\n",
      "time: 2min 25s\n"
     ]
    }
   ],
   "source": [
    "initialize_glassdoor_search(browser, 'montana' + ', us')\n",
    "scrape_jobs(browser, \"Job_Data/montana.json\")"
   ]
  },
  {
   "cell_type": "code",
   "execution_count": 674,
   "metadata": {},
   "outputs": [
    {
     "name": "stdout",
     "output_type": "stream",
     "text": [
      "Beginning scrape of 63 jobs\n",
      "Beginning industry \n",
      "Finished scraping job 30 of 63\n",
      "Finished scraping job 60 of 63\n",
      "Finished scraping job 63 of 63\n",
      "time: 8min 23s\n"
     ]
    }
   ],
   "source": [
    "initialize_glassdoor_search(browser, 'rhode island' + ', us')\n",
    "scrape_jobs(browser, \"Job_Data/rhode_island.json\")"
   ]
  },
  {
   "cell_type": "code",
   "execution_count": 676,
   "metadata": {},
   "outputs": [
    {
     "name": "stdout",
     "output_type": "stream",
     "text": [
      "Beginning scrape of 64 jobs\n",
      "Beginning industry \n",
      "Finished scraping job 30 of 64\n",
      "Finished scraping job 60 of 64\n",
      "Finished scraping job 64 of 64\n",
      "time: 8min 44s\n"
     ]
    }
   ],
   "source": [
    "initialize_glassdoor_search(browser, 'new hampshire' + ', us')\n",
    "scrape_jobs(browser, \"Job_Data/new_hampshire.json\")"
   ]
  },
  {
   "cell_type": "code",
   "execution_count": 678,
   "metadata": {},
   "outputs": [
    {
     "name": "stdout",
     "output_type": "stream",
     "text": [
      "Beginning scrape of 51 jobs\n",
      "Beginning industry \n",
      "Finished scraping job 30 of 51\n",
      "Finished scraping job 51 of 51\n",
      "time: 7min 9s\n"
     ]
    }
   ],
   "source": [
    "initialize_glassdoor_search(browser, 'maine' + ', us')\n",
    "scrape_jobs(browser, \"Job_Data/maine.json\")"
   ]
  },
  {
   "cell_type": "code",
   "execution_count": 680,
   "metadata": {},
   "outputs": [
    {
     "name": "stdout",
     "output_type": "stream",
     "text": [
      "Beginning scrape of 28 jobs\n",
      "Beginning industry \n",
      "Finished scraping job 28 of 28\n",
      "time: 4min 31s\n"
     ]
    }
   ],
   "source": [
    "initialize_glassdoor_search(browser, 'hawaii' + ', us')\n",
    "scrape_jobs(browser, \"Job_Data/hawaii.json\")"
   ]
  },
  {
   "cell_type": "code",
   "execution_count": 682,
   "metadata": {},
   "outputs": [
    {
     "name": "stdout",
     "output_type": "stream",
     "text": [
      "Beginning scrape of 50 jobs\n",
      "Beginning industry \n",
      "Finished scraping job 30 of 50\n",
      "Finished scraping job 50 of 50\n",
      "time: 7min 8s\n"
     ]
    }
   ],
   "source": [
    "initialize_glassdoor_search(browser, 'idaho' + ', us')\n",
    "scrape_jobs(browser, \"Job_Data/idaho.json\")"
   ]
  },
  {
   "cell_type": "code",
   "execution_count": 684,
   "metadata": {},
   "outputs": [
    {
     "name": "stdout",
     "output_type": "stream",
     "text": [
      "Beginning scrape of 18 jobs\n",
      "Beginning industry \n",
      "Finished scraping job 18 of 18\n",
      "time: 3min 22s\n"
     ]
    }
   ],
   "source": [
    "initialize_glassdoor_search(browser, 'west virginia' + ', us')\n",
    "scrape_jobs(browser, \"Job_Data/west_virginia.json\")"
   ]
  },
  {
   "cell_type": "code",
   "execution_count": 686,
   "metadata": {},
   "outputs": [
    {
     "name": "stdout",
     "output_type": "stream",
     "text": [
      "Beginning scrape of 88 jobs\n",
      "Beginning industry \n",
      "Finished scraping job 30 of 88\n",
      "Finished scraping job 60 of 88\n",
      "Finished scraping job 88 of 88\n",
      "time: 11min 35s\n"
     ]
    }
   ],
   "source": [
    "initialize_glassdoor_search(browser, 'new mexico' + ', us')\n",
    "scrape_jobs(browser, \"Job_Data/new_mexico.json\")"
   ]
  },
  {
   "cell_type": "code",
   "execution_count": 688,
   "metadata": {},
   "outputs": [
    {
     "name": "stdout",
     "output_type": "stream",
     "text": [
      "Beginning scrape of 55 jobs\n",
      "Beginning industry \n",
      "Finished scraping job 30 of 55\n",
      "Finished scraping job 55 of 55\n",
      "time: 8min 28s\n"
     ]
    }
   ],
   "source": [
    "initialize_glassdoor_search(browser, 'nevada' + ', us')\n",
    "scrape_jobs(browser, \"Job_Data/nevada.json\")"
   ]
  },
  {
   "cell_type": "code",
   "execution_count": 693,
   "metadata": {},
   "outputs": [
    {
     "name": "stdout",
     "output_type": "stream",
     "text": [
      "Beginning scrape of 73 jobs\n",
      "Beginning industry \n",
      "Finished scraping job 30 of 73\n",
      "Finished scraping job 60 of 73\n",
      "Finished scraping job 73 of 73\n",
      "time: 10min 3s\n"
     ]
    }
   ],
   "source": [
    "initialize_glassdoor_search(browser, 'kansas' + ', us')\n",
    "scrape_jobs(browser, \"Job_Data/kansas.json\")"
   ]
  },
  {
   "cell_type": "code",
   "execution_count": 695,
   "metadata": {},
   "outputs": [
    {
     "name": "stdout",
     "output_type": "stream",
     "text": [
      "Beginning scrape of 911 jobs\n",
      "Beginning industry 1000\n",
      "Finished scraping job 30 of 911\n",
      "Finished scraping job 40 of 911\n",
      "Beginning industry 1002\n",
      "Finished scraping job 70 of 911\n",
      "Finished scraping job 100 of 911\n",
      "Finished scraping job 130 of 911\n",
      "Finished scraping job 160 of 911\n",
      "Finished scraping job 182 of 911\n",
      "Beginning industry 1020\n",
      "Finished scraping job 212 of 911\n",
      "Finished scraping job 238 of 911\n",
      "Beginning industry 1021\n",
      "Finished scraping job 252 of 911\n",
      "Beginning industry 1022\n",
      "Finished scraping job 263 of 911\n",
      "Beginning industry 1027\n",
      "Finished scraping job 293 of 911\n",
      "Finished scraping job 323 of 911\n",
      "Finished scraping job 353 of 911\n",
      "Finished scraping job 380 of 911\n",
      "Beginning industry 1031\n",
      "Finished scraping job 410 of 911\n",
      "Finished scraping job 440 of 911\n",
      "Finished scraping job 453 of 911\n",
      "Beginning industry 1032\n",
      "Finished scraping job 463 of 911\n",
      "Beginning industry 1043\n",
      "Finished scraping job 493 of 911\n",
      "Finished scraping job 498 of 911\n",
      "Beginning industry 1047\n",
      "Finished scraping job 528 of 911\n",
      "Finished scraping job 558 of 911\n",
      "Finished scraping job 586 of 911\n",
      "Beginning industry 1055\n",
      "Finished scraping job 616 of 911\n",
      "Finished scraping job 623 of 911\n",
      "Beginning industry 1058\n",
      "Finished scraping job 640 of 911\n",
      "Beginning industry 1059\n",
      "Finished scraping job 670 of 911\n",
      "Finished scraping job 700 of 911\n",
      "Finished scraping job 722 of 911\n",
      "Beginning industry 1062\n",
      "Finished scraping job 734 of 911\n",
      "Beginning industry 1063\n",
      "Finished scraping job 764 of 911\n",
      "Finished scraping job 794 of 911\n",
      "Finished scraping job 824 of 911\n",
      "Finished scraping job 854 of 911\n",
      "Finished scraping job 884 of 911\n",
      "Finished scraping job 914 of 911\n",
      "Finished scraping job 917 of 911\n",
      "Beginning industry 1066\n",
      "Finished scraping job 947 of 911\n",
      "Finished scraping job 953 of 911\n",
      "time: 1h 40min 52s\n"
     ]
    }
   ],
   "source": [
    "initialize_glassdoor_search(browser, 'virginia' + ', us')\n",
    "scrape_jobs(browser, \"Job_Data/virginia.json\")"
   ]
  },
  {
   "cell_type": "code",
   "execution_count": 701,
   "metadata": {},
   "outputs": [
    {
     "name": "stdout",
     "output_type": "stream",
     "text": [
      "Beginning scrape of 52 jobs\n",
      "Beginning industry \n",
      "Finished scraping job 30 of 52\n",
      "Finished scraping job 52 of 52\n",
      "time: 7min 4s\n"
     ]
    }
   ],
   "source": [
    "initialize_glassdoor_search(browser, 'arkansas' + ', us')\n",
    "scrape_jobs(browser, \"Job_Data/arkansas.json\")"
   ]
  },
  {
   "cell_type": "code",
   "execution_count": 702,
   "metadata": {},
   "outputs": [
    {
     "name": "stdout",
     "output_type": "stream",
     "text": [
      "Beginning scrape of 367 jobs\n",
      "Beginning industry \n",
      "Finished scraping job 30 of 367\n",
      "Finished scraping job 60 of 367\n",
      "Finished scraping job 90 of 367\n",
      "Finished scraping job 120 of 367\n",
      "Finished scraping job 150 of 367\n",
      "Finished scraping job 180 of 367\n",
      "Finished scraping job 210 of 367\n",
      "Finished scraping job 240 of 367\n",
      "Finished scraping job 270 of 367\n",
      "Finished scraping job 300 of 367\n",
      "Finished scraping job 330 of 367\n",
      "Finished scraping job 360 of 367\n",
      "Finished scraping job 366 of 367\n",
      "time: 35min 8s\n"
     ]
    }
   ],
   "source": [
    "initialize_glassdoor_search(browser, 'colorado' + ', us')\n",
    "scrape_jobs(browser, \"Job_Data/colorado.json\")"
   ]
  },
  {
   "cell_type": "code",
   "execution_count": 707,
   "metadata": {},
   "outputs": [
    {
     "name": "stdout",
     "output_type": "stream",
     "text": [
      "Beginning scrape of 102 jobs\n",
      "Beginning industry \n",
      "Finished scraping job 30 of 102\n",
      "Finished scraping job 60 of 102\n",
      "Finished scraping job 90 of 102\n",
      "Finished scraping job 102 of 102\n",
      "time: 11min 36s\n"
     ]
    }
   ],
   "source": [
    "initialize_glassdoor_search(browser, 'iowa' + ', us')\n",
    "scrape_jobs(browser, \"Job_Data/iowa.json\")"
   ]
  },
  {
   "cell_type": "code",
   "execution_count": 710,
   "metadata": {},
   "outputs": [
    {
     "name": "stdout",
     "output_type": "stream",
     "text": [
      "Beginning scrape of 252 jobs\n",
      "Beginning industry \n",
      "Finished scraping job 30 of 252\n",
      "Finished scraping job 60 of 252\n",
      "Finished scraping job 90 of 252\n",
      "Finished scraping job 120 of 252\n",
      "Finished scraping job 150 of 252\n",
      "Finished scraping job 180 of 252\n",
      "Finished scraping job 210 of 252\n",
      "Finished scraping job 240 of 252\n",
      "Finished scraping job 252 of 252\n",
      "time: 24min 56s\n"
     ]
    }
   ],
   "source": [
    "initialize_glassdoor_search(browser, 'arizona' + ', us')\n",
    "scrape_jobs(browser, \"Job_Data/arizona.json\")"
   ]
  },
  {
   "cell_type": "code",
   "execution_count": 713,
   "metadata": {},
   "outputs": [
    {
     "name": "stdout",
     "output_type": "stream",
     "text": [
      "Beginning scrape of 425 jobs\n",
      "Beginning industry \n",
      "Finished scraping job 30 of 425\n",
      "Finished scraping job 60 of 425\n",
      "Finished scraping job 90 of 425\n",
      "Finished scraping job 120 of 425\n",
      "Finished scraping job 150 of 425\n",
      "Finished scraping job 180 of 425\n",
      "Finished scraping job 210 of 425\n",
      "Finished scraping job 240 of 425\n",
      "Finished scraping job 270 of 425\n",
      "Finished scraping job 300 of 425\n",
      "Finished scraping job 330 of 425\n",
      "Finished scraping job 360 of 425\n",
      "Finished scraping job 390 of 425\n",
      "Finished scraping job 420 of 425\n",
      "Finished scraping job 425 of 425\n",
      "time: 41min 32s\n"
     ]
    }
   ],
   "source": [
    "initialize_glassdoor_search(browser, 'washington dc' + ', us')\n",
    "scrape_jobs(browser, \"Job_Data/washington_dc.json\")"
   ]
  },
  {
   "cell_type": "code",
   "execution_count": 718,
   "metadata": {},
   "outputs": [
    {
     "name": "stdout",
     "output_type": "stream",
     "text": [
      "Beginning scrape of 136 jobs\n",
      "Beginning industry \n",
      "Finished scraping job 30 of 136\n",
      "Finished scraping job 60 of 136\n",
      "Finished scraping job 90 of 136\n",
      "Finished scraping job 120 of 136\n",
      "Finished scraping job 136 of 136\n",
      "time: 15min 31s\n"
     ]
    }
   ],
   "source": [
    "initialize_glassdoor_search(browser, 'utah' + ', us')\n",
    "scrape_jobs(browser, \"Job_Data/utah.json\")"
   ]
  },
  {
   "cell_type": "code",
   "execution_count": 720,
   "metadata": {},
   "outputs": [
    {
     "name": "stdout",
     "output_type": "stream",
     "text": [
      "Beginning scrape of 670 jobs\n",
      "Beginning industry \n",
      "Finished scraping job 30 of 670\n",
      "Finished scraping job 60 of 670\n",
      "Finished scraping job 90 of 670\n",
      "Finished scraping job 120 of 670\n",
      "Finished scraping job 150 of 670\n",
      "Finished scraping job 180 of 670\n",
      "Finished scraping job 210 of 670\n",
      "Finished scraping job 240 of 670\n",
      "Finished scraping job 270 of 670\n",
      "Finished scraping job 300 of 670\n",
      "Finished scraping job 330 of 670\n",
      "Finished scraping job 360 of 670\n",
      "Finished scraping job 390 of 670\n",
      "Finished scraping job 420 of 670\n",
      "Finished scraping job 450 of 670\n",
      "Finished scraping job 480 of 670\n",
      "Finished scraping job 510 of 670\n",
      "Finished scraping job 540 of 670\n",
      "Finished scraping job 570 of 670\n",
      "Finished scraping job 600 of 670\n",
      "Finished scraping job 630 of 670\n",
      "Finished scraping job 660 of 670\n",
      "Finished scraping job 670 of 670\n",
      "time: 1h 25min 23s\n"
     ]
    }
   ],
   "source": [
    "initialize_glassdoor_search(browser, 'north carolina' + ', us')\n",
    "scrape_jobs(browser, \"Job_Data/north_carolina.json\")"
   ]
  },
  {
   "cell_type": "code",
   "execution_count": 731,
   "metadata": {},
   "outputs": [
    {
     "name": "stdout",
     "output_type": "stream",
     "text": [
      "Beginning scrape of 72 jobs\n",
      "Beginning industry \n",
      "Finished scraping job 30 of 72\n",
      "Finished scraping job 60 of 72\n",
      "Finished scraping job 72 of 72\n",
      "time: 8min 16s\n"
     ]
    }
   ],
   "source": [
    "initialize_glassdoor_search(browser, 'south carolina' + ', us')\n",
    "scrape_jobs(browser, \"Job_Data/south_carolina.json\")"
   ]
  },
  {
   "cell_type": "code",
   "execution_count": 732,
   "metadata": {},
   "outputs": [
    {
     "name": "stdout",
     "output_type": "stream",
     "text": [
      "Beginning scrape of 190 jobs\n",
      "Beginning industry \n",
      "Finished scraping job 30 of 190\n",
      "Finished scraping job 60 of 190\n",
      "Finished scraping job 90 of 190\n",
      "Finished scraping job 120 of 190\n",
      "Finished scraping job 150 of 190\n",
      "Finished scraping job 180 of 190\n",
      "Finished scraping job 190 of 190\n",
      "time: 25min 30s\n"
     ]
    }
   ],
   "source": [
    "initialize_glassdoor_search(browser, 'oregon' + ', us')\n",
    "scrape_jobs(browser, \"Job_Data/oregon.json\")"
   ]
  },
  {
   "cell_type": "code",
   "execution_count": 734,
   "metadata": {},
   "outputs": [
    {
     "name": "stdout",
     "output_type": "stream",
     "text": [
      "Beginning scrape of 79 jobs\n",
      "Beginning industry \n",
      "Finished scraping job 30 of 79\n",
      "Finished scraping job 60 of 79\n",
      "Finished scraping job 79 of 79\n",
      "time: 11min 12s\n"
     ]
    }
   ],
   "source": [
    "initialize_glassdoor_search(browser, 'louisiana' + ', us')\n",
    "scrape_jobs(browser, \"Job_Data/louisiana.json\")"
   ]
  },
  {
   "cell_type": "code",
   "execution_count": 736,
   "metadata": {},
   "outputs": [
    {
     "name": "stdout",
     "output_type": "stream",
     "text": [
      "Beginning scrape of 63 jobs\n",
      "Beginning industry \n",
      "Finished scraping job 30 of 63\n",
      "Finished scraping job 60 of 63\n",
      "Finished scraping job 63 of 63\n",
      "time: 9min 25s\n"
     ]
    }
   ],
   "source": [
    "initialize_glassdoor_search(browser, 'kentucky' + ', us')\n",
    "scrape_jobs(browser, \"Job_Data/kentucky.json\")"
   ]
  },
  {
   "cell_type": "code",
   "execution_count": 738,
   "metadata": {},
   "outputs": [
    {
     "name": "stdout",
     "output_type": "stream",
     "text": [
      "Beginning scrape of 47 jobs\n",
      "Beginning industry \n",
      "Finished scraping job 30 of 47\n",
      "Finished scraping job 47 of 47\n",
      "time: 7min 51s\n"
     ]
    }
   ],
   "source": [
    "initialize_glassdoor_search(browser, 'oklahoma' + ', us')\n",
    "scrape_jobs(browser, \"Job_Data/oklahoma.json\")"
   ]
  },
  {
   "cell_type": "code",
   "execution_count": 742,
   "metadata": {},
   "outputs": [
    {
     "name": "stdout",
     "output_type": "stream",
     "text": [
      "Beginning scrape of 211 jobs\n",
      "Beginning industry \n",
      "Finished scraping job 30 of 211\n",
      "Finished scraping job 60 of 211\n",
      "Finished scraping job 90 of 211\n",
      "Finished scraping job 120 of 211\n",
      "Finished scraping job 150 of 211\n",
      "Finished scraping job 180 of 211\n",
      "Finished scraping job 210 of 211\n",
      "Finished scraping job 211 of 211\n",
      "time: 27min 21s\n"
     ]
    }
   ],
   "source": [
    "initialize_glassdoor_search(browser, 'indiana' + ', us')\n",
    "scrape_jobs(browser, \"Job_Data/indiana.json\")"
   ]
  },
  {
   "cell_type": "code",
   "execution_count": 743,
   "metadata": {},
   "outputs": [
    {
     "name": "stdout",
     "output_type": "stream",
     "text": [
      "Beginning scrape of 397 jobs\n",
      "Beginning industry \n",
      "Finished scraping job 30 of 397\n",
      "Finished scraping job 60 of 397\n",
      "Finished scraping job 90 of 397\n",
      "Finished scraping job 120 of 397\n",
      "Finished scraping job 150 of 397\n",
      "Finished scraping job 180 of 397\n",
      "Finished scraping job 210 of 397\n",
      "Finished scraping job 240 of 397\n",
      "Finished scraping job 270 of 397\n",
      "Finished scraping job 300 of 397\n",
      "Finished scraping job 330 of 397\n",
      "Finished scraping job 360 of 397\n",
      "Finished scraping job 390 of 397\n",
      "Finished scraping job 397 of 397\n",
      "time: 51min 26s\n"
     ]
    }
   ],
   "source": [
    "initialize_glassdoor_search(browser, 'missouri' + ', us')\n",
    "scrape_jobs(browser, \"Job_Data/missouri.json\")"
   ]
  },
  {
   "cell_type": "code",
   "execution_count": 748,
   "metadata": {},
   "outputs": [
    {
     "name": "stdout",
     "output_type": "stream",
     "text": [
      "Beginning scrape of 858 jobs\n",
      "Beginning industry \n",
      "Finished scraping job 30 of 858\n",
      "Finished scraping job 60 of 858\n",
      "Finished scraping job 90 of 858\n",
      "Finished scraping job 120 of 858\n",
      "Finished scraping job 150 of 858\n",
      "Finished scraping job 180 of 858\n",
      "Finished scraping job 210 of 858\n",
      "Finished scraping job 240 of 858\n",
      "Finished scraping job 270 of 858\n",
      "Finished scraping job 300 of 858\n",
      "Finished scraping job 330 of 858\n",
      "Finished scraping job 360 of 858\n",
      "Finished scraping job 390 of 858\n",
      "Finished scraping job 420 of 858\n",
      "Finished scraping job 450 of 858\n",
      "Finished scraping job 480 of 858\n",
      "Finished scraping job 510 of 858\n",
      "Finished scraping job 540 of 858\n",
      "Finished scraping job 570 of 858\n",
      "Finished scraping job 600 of 858\n",
      "Finished scraping job 630 of 858\n",
      "Finished scraping job 660 of 858\n",
      "Finished scraping job 690 of 858\n",
      "Finished scraping job 720 of 858\n",
      "Finished scraping job 750 of 858\n",
      "Finished scraping job 780 of 858\n",
      "Finished scraping job 810 of 858\n",
      "Finished scraping job 840 of 858\n",
      "Finished scraping job 866 of 858\n",
      "time: 1h 50min 30s\n"
     ]
    }
   ],
   "source": [
    "initialize_glassdoor_search(browser, 'new jersey' + ', us')\n",
    "scrape_jobs(browser, \"Job_Data/new_jersey.json\")"
   ]
  },
  {
   "cell_type": "code",
   "execution_count": 750,
   "metadata": {},
   "outputs": [
    {
     "name": "stdout",
     "output_type": "stream",
     "text": [
      "Beginning scrape of 756 jobs\n",
      "Beginning industry \n",
      "Finished scraping job 30 of 756\n",
      "Finished scraping job 60 of 756\n",
      "Finished scraping job 90 of 756\n",
      "Finished scraping job 120 of 756\n",
      "Finished scraping job 150 of 756\n",
      "Finished scraping job 180 of 756\n",
      "Finished scraping job 210 of 756\n",
      "Finished scraping job 240 of 756\n",
      "Finished scraping job 270 of 756\n",
      "Finished scraping job 300 of 756\n",
      "Finished scraping job 330 of 756\n",
      "Finished scraping job 360 of 756\n",
      "Finished scraping job 390 of 756\n",
      "Finished scraping job 420 of 756\n",
      "Finished scraping job 450 of 756\n",
      "Finished scraping job 480 of 756\n",
      "Finished scraping job 510 of 756\n",
      "Finished scraping job 540 of 756\n",
      "Finished scraping job 570 of 756\n",
      "Finished scraping job 600 of 756\n",
      "Finished scraping job 630 of 756\n",
      "Finished scraping job 660 of 756\n",
      "Finished scraping job 690 of 756\n",
      "Finished scraping job 720 of 756\n",
      "Finished scraping job 750 of 756\n",
      "Finished scraping job 756 of 756\n",
      "time: 1h 32min 28s\n"
     ]
    }
   ],
   "source": [
    "initialize_glassdoor_search(browser, 'maryland' + ', us')\n",
    "scrape_jobs(browser, \"Job_Data/maryland.json\")"
   ]
  },
  {
   "cell_type": "code",
   "execution_count": null,
   "metadata": {},
   "outputs": [],
   "source": [
    "# 40.6 hours of total scraping"
   ]
  },
  {
   "cell_type": "code",
   "execution_count": null,
   "metadata": {},
   "outputs": [],
   "source": []
  }
 ],
 "metadata": {
  "kernelspec": {
   "display_name": "Python 3",
   "language": "python",
   "name": "python3"
  },
  "language_info": {
   "codemirror_mode": {
    "name": "ipython",
    "version": 3
   },
   "file_extension": ".py",
   "mimetype": "text/x-python",
   "name": "python",
   "nbconvert_exporter": "python",
   "pygments_lexer": "ipython3",
   "version": "3.6.0"
  }
 },
 "nbformat": 4,
 "nbformat_minor": 2
}
